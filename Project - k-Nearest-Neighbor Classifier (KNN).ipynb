{
  "cells": [
    {
      "cell_type": "markdown",
      "metadata": {
        "id": "view-in-github",
        "colab_type": "text"
      },
      "source": [
        "<a href=\"https://colab.research.google.com/github/MohammedIrfan7/Machine-Learning/blob/main/Project%20-%20k-Nearest-Neighbor%20Classifier%20(KNN).ipynb\" target=\"_parent\"><img src=\"https://colab.research.google.com/assets/colab-badge.svg\" alt=\"Open In Colab\"/></a>"
      ]
    },
    {
      "cell_type": "markdown",
      "id": "e066d618",
      "metadata": {
        "id": "e066d618"
      },
      "source": [
        "<a \n",
        " href=\"https://colab.research.google.com/github/LearnPythonWithRune/MachineLearningWithPython/blob/main/colab/final/00 - Project - k-Nearest-Neighbor Classifier (KNN).ipynb\"\n",
        " target=\"_parent\">\n",
        "<img \n",
        " src=\"https://colab.research.google.com/assets/colab-badge.svg\"\n",
        "alt=\"Open In Colab\"/>\n",
        "</a>"
      ]
    },
    {
      "cell_type": "markdown",
      "id": "321ec113",
      "metadata": {
        "id": "321ec113"
      },
      "source": [
        "# Project - $k$-Nearest-Neighbors Classifier\n",
        "- Create a $k$-Nearest-Neighbors Classifier supporting 3 dimensions\n",
        "- Investigate whether it performs better"
      ]
    },
    {
      "cell_type": "markdown",
      "id": "e3bc28f8",
      "metadata": {
        "id": "e3bc28f8"
      },
      "source": [
        "### Step 1: Import libraries"
      ]
    },
    {
      "cell_type": "code",
      "execution_count": 1,
      "id": "1f0d8c10",
      "metadata": {
        "id": "1f0d8c10"
      },
      "outputs": [],
      "source": [
        "import pandas as pd\n",
        "import numpy as np\n",
        "from sklearn.neighbors import KNeighborsClassifier\n",
        "from sklearn import metrics\n",
        "from sklearn.model_selection import train_test_split"
      ]
    },
    {
      "cell_type": "markdown",
      "id": "d7d9b7fd",
      "metadata": {
        "id": "d7d9b7fd"
      },
      "source": [
        "### Step 2: Read data\n",
        "- Use pandas [read_csv](https://pandas.pydata.org/pandas-docs/stable/reference/api/pandas.read_csv.html) method to read **files/weather.csv**\n",
        "- HINT: Use **parse_dates=True** and **index_col=0**"
      ]
    },
    {
      "cell_type": "code",
      "execution_count": 5,
      "id": "ee927ed1",
      "metadata": {
        "colab": {
          "base_uri": "https://localhost:8080/",
          "height": 418
        },
        "id": "ee927ed1",
        "outputId": "1c3bc209-a282-4c56-8659-41c5cad4f387"
      },
      "outputs": [
        {
          "output_type": "execute_result",
          "data": {
            "text/plain": [
              "            MinTemp  MaxTemp  Rainfall  Evaporation  Sunshine WindGustDir  \\\n",
              "Date                                                                        \n",
              "2008-02-01     19.5     22.4      15.6          6.2       0.0         NaN   \n",
              "2008-02-02     19.5     25.6       6.0          3.4       2.7         NaN   \n",
              "2008-02-03     21.6     24.5       6.6          2.4       0.1         NaN   \n",
              "2008-02-04     20.2     22.8      18.8          2.2       0.0         NaN   \n",
              "2008-02-05     19.7     25.7      77.4          NaN       0.0         NaN   \n",
              "\n",
              "            WindGustSpeed WindDir9am WindDir3pm  WindSpeed9am  ...  \\\n",
              "Date                                                           ...   \n",
              "2008-02-01            NaN          S        SSW          17.0  ...   \n",
              "2008-02-02            NaN          W          E           9.0  ...   \n",
              "2008-02-03            NaN        ESE        ESE          17.0  ...   \n",
              "2008-02-04            NaN        NNE          E          22.0  ...   \n",
              "2008-02-05            NaN        NNE          W          11.0  ...   \n",
              "\n",
              "            Humidity3pm  Pressure9am  Pressure3pm  Cloud9am  Cloud3pm  \\\n",
              "Date                                                                    \n",
              "2008-02-01         84.0       1017.6       1017.4       8.0       8.0   \n",
              "2008-02-02         73.0       1017.9       1016.4       7.0       7.0   \n",
              "2008-02-03         86.0       1016.7       1015.6       7.0       8.0   \n",
              "2008-02-04         90.0       1014.2       1011.8       8.0       8.0   \n",
              "2008-02-05         74.0       1008.3       1004.8       8.0       8.0   \n",
              "\n",
              "            Temp9am  Temp3pm  RainToday  RISK_MM RainTomorrow  \n",
              "Date                                                           \n",
              "2008-02-01     20.7     20.9        Yes      6.0          Yes  \n",
              "2008-02-02     22.4     24.8        Yes      6.6          Yes  \n",
              "2008-02-03     23.5     23.0        Yes     18.8          Yes  \n",
              "2008-02-04     21.4     20.9        Yes     77.4          Yes  \n",
              "2008-02-05     22.5     25.5        Yes      1.6          Yes  \n",
              "\n",
              "[5 rows x 22 columns]"
            ],
            "text/html": [
              "\n",
              "  <div id=\"df-397cf283-54fe-404d-9e25-75e99b25f128\">\n",
              "    <div class=\"colab-df-container\">\n",
              "      <div>\n",
              "<style scoped>\n",
              "    .dataframe tbody tr th:only-of-type {\n",
              "        vertical-align: middle;\n",
              "    }\n",
              "\n",
              "    .dataframe tbody tr th {\n",
              "        vertical-align: top;\n",
              "    }\n",
              "\n",
              "    .dataframe thead th {\n",
              "        text-align: right;\n",
              "    }\n",
              "</style>\n",
              "<table border=\"1\" class=\"dataframe\">\n",
              "  <thead>\n",
              "    <tr style=\"text-align: right;\">\n",
              "      <th></th>\n",
              "      <th>MinTemp</th>\n",
              "      <th>MaxTemp</th>\n",
              "      <th>Rainfall</th>\n",
              "      <th>Evaporation</th>\n",
              "      <th>Sunshine</th>\n",
              "      <th>WindGustDir</th>\n",
              "      <th>WindGustSpeed</th>\n",
              "      <th>WindDir9am</th>\n",
              "      <th>WindDir3pm</th>\n",
              "      <th>WindSpeed9am</th>\n",
              "      <th>...</th>\n",
              "      <th>Humidity3pm</th>\n",
              "      <th>Pressure9am</th>\n",
              "      <th>Pressure3pm</th>\n",
              "      <th>Cloud9am</th>\n",
              "      <th>Cloud3pm</th>\n",
              "      <th>Temp9am</th>\n",
              "      <th>Temp3pm</th>\n",
              "      <th>RainToday</th>\n",
              "      <th>RISK_MM</th>\n",
              "      <th>RainTomorrow</th>\n",
              "    </tr>\n",
              "    <tr>\n",
              "      <th>Date</th>\n",
              "      <th></th>\n",
              "      <th></th>\n",
              "      <th></th>\n",
              "      <th></th>\n",
              "      <th></th>\n",
              "      <th></th>\n",
              "      <th></th>\n",
              "      <th></th>\n",
              "      <th></th>\n",
              "      <th></th>\n",
              "      <th></th>\n",
              "      <th></th>\n",
              "      <th></th>\n",
              "      <th></th>\n",
              "      <th></th>\n",
              "      <th></th>\n",
              "      <th></th>\n",
              "      <th></th>\n",
              "      <th></th>\n",
              "      <th></th>\n",
              "      <th></th>\n",
              "    </tr>\n",
              "  </thead>\n",
              "  <tbody>\n",
              "    <tr>\n",
              "      <th>2008-02-01</th>\n",
              "      <td>19.5</td>\n",
              "      <td>22.4</td>\n",
              "      <td>15.6</td>\n",
              "      <td>6.2</td>\n",
              "      <td>0.0</td>\n",
              "      <td>NaN</td>\n",
              "      <td>NaN</td>\n",
              "      <td>S</td>\n",
              "      <td>SSW</td>\n",
              "      <td>17.0</td>\n",
              "      <td>...</td>\n",
              "      <td>84.0</td>\n",
              "      <td>1017.6</td>\n",
              "      <td>1017.4</td>\n",
              "      <td>8.0</td>\n",
              "      <td>8.0</td>\n",
              "      <td>20.7</td>\n",
              "      <td>20.9</td>\n",
              "      <td>Yes</td>\n",
              "      <td>6.0</td>\n",
              "      <td>Yes</td>\n",
              "    </tr>\n",
              "    <tr>\n",
              "      <th>2008-02-02</th>\n",
              "      <td>19.5</td>\n",
              "      <td>25.6</td>\n",
              "      <td>6.0</td>\n",
              "      <td>3.4</td>\n",
              "      <td>2.7</td>\n",
              "      <td>NaN</td>\n",
              "      <td>NaN</td>\n",
              "      <td>W</td>\n",
              "      <td>E</td>\n",
              "      <td>9.0</td>\n",
              "      <td>...</td>\n",
              "      <td>73.0</td>\n",
              "      <td>1017.9</td>\n",
              "      <td>1016.4</td>\n",
              "      <td>7.0</td>\n",
              "      <td>7.0</td>\n",
              "      <td>22.4</td>\n",
              "      <td>24.8</td>\n",
              "      <td>Yes</td>\n",
              "      <td>6.6</td>\n",
              "      <td>Yes</td>\n",
              "    </tr>\n",
              "    <tr>\n",
              "      <th>2008-02-03</th>\n",
              "      <td>21.6</td>\n",
              "      <td>24.5</td>\n",
              "      <td>6.6</td>\n",
              "      <td>2.4</td>\n",
              "      <td>0.1</td>\n",
              "      <td>NaN</td>\n",
              "      <td>NaN</td>\n",
              "      <td>ESE</td>\n",
              "      <td>ESE</td>\n",
              "      <td>17.0</td>\n",
              "      <td>...</td>\n",
              "      <td>86.0</td>\n",
              "      <td>1016.7</td>\n",
              "      <td>1015.6</td>\n",
              "      <td>7.0</td>\n",
              "      <td>8.0</td>\n",
              "      <td>23.5</td>\n",
              "      <td>23.0</td>\n",
              "      <td>Yes</td>\n",
              "      <td>18.8</td>\n",
              "      <td>Yes</td>\n",
              "    </tr>\n",
              "    <tr>\n",
              "      <th>2008-02-04</th>\n",
              "      <td>20.2</td>\n",
              "      <td>22.8</td>\n",
              "      <td>18.8</td>\n",
              "      <td>2.2</td>\n",
              "      <td>0.0</td>\n",
              "      <td>NaN</td>\n",
              "      <td>NaN</td>\n",
              "      <td>NNE</td>\n",
              "      <td>E</td>\n",
              "      <td>22.0</td>\n",
              "      <td>...</td>\n",
              "      <td>90.0</td>\n",
              "      <td>1014.2</td>\n",
              "      <td>1011.8</td>\n",
              "      <td>8.0</td>\n",
              "      <td>8.0</td>\n",
              "      <td>21.4</td>\n",
              "      <td>20.9</td>\n",
              "      <td>Yes</td>\n",
              "      <td>77.4</td>\n",
              "      <td>Yes</td>\n",
              "    </tr>\n",
              "    <tr>\n",
              "      <th>2008-02-05</th>\n",
              "      <td>19.7</td>\n",
              "      <td>25.7</td>\n",
              "      <td>77.4</td>\n",
              "      <td>NaN</td>\n",
              "      <td>0.0</td>\n",
              "      <td>NaN</td>\n",
              "      <td>NaN</td>\n",
              "      <td>NNE</td>\n",
              "      <td>W</td>\n",
              "      <td>11.0</td>\n",
              "      <td>...</td>\n",
              "      <td>74.0</td>\n",
              "      <td>1008.3</td>\n",
              "      <td>1004.8</td>\n",
              "      <td>8.0</td>\n",
              "      <td>8.0</td>\n",
              "      <td>22.5</td>\n",
              "      <td>25.5</td>\n",
              "      <td>Yes</td>\n",
              "      <td>1.6</td>\n",
              "      <td>Yes</td>\n",
              "    </tr>\n",
              "  </tbody>\n",
              "</table>\n",
              "<p>5 rows × 22 columns</p>\n",
              "</div>\n",
              "      <button class=\"colab-df-convert\" onclick=\"convertToInteractive('df-397cf283-54fe-404d-9e25-75e99b25f128')\"\n",
              "              title=\"Convert this dataframe to an interactive table.\"\n",
              "              style=\"display:none;\">\n",
              "        \n",
              "  <svg xmlns=\"http://www.w3.org/2000/svg\" height=\"24px\"viewBox=\"0 0 24 24\"\n",
              "       width=\"24px\">\n",
              "    <path d=\"M0 0h24v24H0V0z\" fill=\"none\"/>\n",
              "    <path d=\"M18.56 5.44l.94 2.06.94-2.06 2.06-.94-2.06-.94-.94-2.06-.94 2.06-2.06.94zm-11 1L8.5 8.5l.94-2.06 2.06-.94-2.06-.94L8.5 2.5l-.94 2.06-2.06.94zm10 10l.94 2.06.94-2.06 2.06-.94-2.06-.94-.94-2.06-.94 2.06-2.06.94z\"/><path d=\"M17.41 7.96l-1.37-1.37c-.4-.4-.92-.59-1.43-.59-.52 0-1.04.2-1.43.59L10.3 9.45l-7.72 7.72c-.78.78-.78 2.05 0 2.83L4 21.41c.39.39.9.59 1.41.59.51 0 1.02-.2 1.41-.59l7.78-7.78 2.81-2.81c.8-.78.8-2.07 0-2.86zM5.41 20L4 18.59l7.72-7.72 1.47 1.35L5.41 20z\"/>\n",
              "  </svg>\n",
              "      </button>\n",
              "      \n",
              "  <style>\n",
              "    .colab-df-container {\n",
              "      display:flex;\n",
              "      flex-wrap:wrap;\n",
              "      gap: 12px;\n",
              "    }\n",
              "\n",
              "    .colab-df-convert {\n",
              "      background-color: #E8F0FE;\n",
              "      border: none;\n",
              "      border-radius: 50%;\n",
              "      cursor: pointer;\n",
              "      display: none;\n",
              "      fill: #1967D2;\n",
              "      height: 32px;\n",
              "      padding: 0 0 0 0;\n",
              "      width: 32px;\n",
              "    }\n",
              "\n",
              "    .colab-df-convert:hover {\n",
              "      background-color: #E2EBFA;\n",
              "      box-shadow: 0px 1px 2px rgba(60, 64, 67, 0.3), 0px 1px 3px 1px rgba(60, 64, 67, 0.15);\n",
              "      fill: #174EA6;\n",
              "    }\n",
              "\n",
              "    [theme=dark] .colab-df-convert {\n",
              "      background-color: #3B4455;\n",
              "      fill: #D2E3FC;\n",
              "    }\n",
              "\n",
              "    [theme=dark] .colab-df-convert:hover {\n",
              "      background-color: #434B5C;\n",
              "      box-shadow: 0px 1px 3px 1px rgba(0, 0, 0, 0.15);\n",
              "      filter: drop-shadow(0px 1px 2px rgba(0, 0, 0, 0.3));\n",
              "      fill: #FFFFFF;\n",
              "    }\n",
              "  </style>\n",
              "\n",
              "      <script>\n",
              "        const buttonEl =\n",
              "          document.querySelector('#df-397cf283-54fe-404d-9e25-75e99b25f128 button.colab-df-convert');\n",
              "        buttonEl.style.display =\n",
              "          google.colab.kernel.accessAllowed ? 'block' : 'none';\n",
              "\n",
              "        async function convertToInteractive(key) {\n",
              "          const element = document.querySelector('#df-397cf283-54fe-404d-9e25-75e99b25f128');\n",
              "          const dataTable =\n",
              "            await google.colab.kernel.invokeFunction('convertToInteractive',\n",
              "                                                     [key], {});\n",
              "          if (!dataTable) return;\n",
              "\n",
              "          const docLinkHtml = 'Like what you see? Visit the ' +\n",
              "            '<a target=\"_blank\" href=https://colab.research.google.com/notebooks/data_table.ipynb>data table notebook</a>'\n",
              "            + ' to learn more about interactive tables.';\n",
              "          element.innerHTML = '';\n",
              "          dataTable['output_type'] = 'display_data';\n",
              "          await google.colab.output.renderOutput(dataTable, element);\n",
              "          const docLink = document.createElement('div');\n",
              "          docLink.innerHTML = docLinkHtml;\n",
              "          element.appendChild(docLink);\n",
              "        }\n",
              "      </script>\n",
              "    </div>\n",
              "  </div>\n",
              "  "
            ]
          },
          "metadata": {},
          "execution_count": 5
        }
      ],
      "source": [
        "data = pd.read_csv('https://raw.githubusercontent.com/LearnPythonWithRune/MachineLearningWithPython/main/jupyter/final/files/weather.csv', parse_dates=True,index_col=0)\n",
        "data.head()"
      ]
    },
    {
      "cell_type": "code",
      "execution_count": 3,
      "id": "1e5e9c70",
      "metadata": {
        "colab": {
          "base_uri": "https://localhost:8080/"
        },
        "id": "1e5e9c70",
        "outputId": "d54c7224-7317-4e99-a81b-2ee8266bef38"
      },
      "outputs": [
        {
          "output_type": "execute_result",
          "data": {
            "text/plain": [
              "DatetimeIndex(['2008-02-01', '2008-02-02', '2008-02-03', '2008-02-04',\n",
              "               '2008-02-05', '2008-02-06', '2008-02-07', '2008-02-08',\n",
              "               '2008-02-09', '2008-02-10',\n",
              "               ...\n",
              "               '2017-06-16', '2017-06-17', '2017-06-18', '2017-06-19',\n",
              "               '2017-06-20', '2017-06-21', '2017-06-22', '2017-06-23',\n",
              "               '2017-06-24', '2017-06-25'],\n",
              "              dtype='datetime64[ns]', name='Date', length=3337, freq=None)"
            ]
          },
          "metadata": {},
          "execution_count": 3
        }
      ],
      "source": [
        "data.index"
      ]
    },
    {
      "cell_type": "markdown",
      "id": "f84c7bf0",
      "metadata": {
        "id": "f84c7bf0"
      },
      "source": [
        "### Step 3: Investigate data types\n",
        "- Use [dtypes](https://pandas.pydata.org/docs/reference/api/pandas.DataFrame.dtypes.html)\n",
        "- The goal is to identify all columns with datatype **float64** for next step"
      ]
    },
    {
      "cell_type": "code",
      "execution_count": null,
      "id": "7b7529e0",
      "metadata": {
        "id": "7b7529e0",
        "outputId": "d2fafd44-5001-4369-b87e-482f1e6521af"
      },
      "outputs": [
        {
          "data": {
            "text/plain": [
              "MinTemp          float64\n",
              "MaxTemp          float64\n",
              "Rainfall         float64\n",
              "Evaporation      float64\n",
              "Sunshine         float64\n",
              "WindGustDir       object\n",
              "WindGustSpeed    float64\n",
              "WindDir9am        object\n",
              "WindDir3pm        object\n",
              "WindSpeed9am     float64\n",
              "WindSpeed3pm     float64\n",
              "Humidity9am      float64\n",
              "Humidity3pm      float64\n",
              "Pressure9am      float64\n",
              "Pressure3pm      float64\n",
              "Cloud9am         float64\n",
              "Cloud3pm         float64\n",
              "Temp9am          float64\n",
              "Temp3pm          float64\n",
              "RainToday         object\n",
              "RISK_MM          float64\n",
              "RainTomorrow      object\n",
              "dtype: object"
            ]
          },
          "execution_count": 5,
          "metadata": {},
          "output_type": "execute_result"
        }
      ],
      "source": [
        "data.dtypes"
      ]
    },
    {
      "cell_type": "code",
      "execution_count": null,
      "id": "82e9b31a",
      "metadata": {
        "id": "82e9b31a"
      },
      "outputs": [],
      "source": []
    },
    {
      "cell_type": "markdown",
      "id": "b57e0959",
      "metadata": {
        "id": "b57e0959"
      },
      "source": [
        "### Step 4: Choose 3 columns to create datasets\n",
        "- Use **Humidity3pm** and **Pressure3pm** together with another column to predict **RainTomorrow**\n",
        "- Make a list of three column names **'Humidity3pm', 'Pressure3pm', INSERT YOUR CHOICE** (should be one with dtype *float64*, e.g., **Cloud3pm**), and **'RainTomorrow'**\n",
        "- Create the dataset consisting of these 4 columns"
      ]
    },
    {
      "cell_type": "code",
      "execution_count": null,
      "id": "3547311f",
      "metadata": {
        "id": "3547311f"
      },
      "outputs": [],
      "source": [
        "header = ['Humidity3pm', 'Pressure3pm', 'Cloud3pm', 'RainTomorrow']\n",
        "dataset = data[header]"
      ]
    },
    {
      "cell_type": "code",
      "execution_count": null,
      "id": "3128ad6a",
      "metadata": {
        "id": "3128ad6a",
        "outputId": "8a10caad-a185-43ce-9658-5ae12a5dd35d"
      },
      "outputs": [
        {
          "data": {
            "text/html": [
              "<div>\n",
              "<style scoped>\n",
              "    .dataframe tbody tr th:only-of-type {\n",
              "        vertical-align: middle;\n",
              "    }\n",
              "\n",
              "    .dataframe tbody tr th {\n",
              "        vertical-align: top;\n",
              "    }\n",
              "\n",
              "    .dataframe thead th {\n",
              "        text-align: right;\n",
              "    }\n",
              "</style>\n",
              "<table border=\"1\" class=\"dataframe\">\n",
              "  <thead>\n",
              "    <tr style=\"text-align: right;\">\n",
              "      <th></th>\n",
              "      <th>Humidity3pm</th>\n",
              "      <th>Pressure3pm</th>\n",
              "      <th>Cloud3pm</th>\n",
              "      <th>RainTomorrow</th>\n",
              "    </tr>\n",
              "    <tr>\n",
              "      <th>Date</th>\n",
              "      <th></th>\n",
              "      <th></th>\n",
              "      <th></th>\n",
              "      <th></th>\n",
              "    </tr>\n",
              "  </thead>\n",
              "  <tbody>\n",
              "    <tr>\n",
              "      <th>2008-02-01</th>\n",
              "      <td>84.0</td>\n",
              "      <td>1017.4</td>\n",
              "      <td>8.0</td>\n",
              "      <td>Yes</td>\n",
              "    </tr>\n",
              "    <tr>\n",
              "      <th>2008-02-02</th>\n",
              "      <td>73.0</td>\n",
              "      <td>1016.4</td>\n",
              "      <td>7.0</td>\n",
              "      <td>Yes</td>\n",
              "    </tr>\n",
              "    <tr>\n",
              "      <th>2008-02-03</th>\n",
              "      <td>86.0</td>\n",
              "      <td>1015.6</td>\n",
              "      <td>8.0</td>\n",
              "      <td>Yes</td>\n",
              "    </tr>\n",
              "    <tr>\n",
              "      <th>2008-02-04</th>\n",
              "      <td>90.0</td>\n",
              "      <td>1011.8</td>\n",
              "      <td>8.0</td>\n",
              "      <td>Yes</td>\n",
              "    </tr>\n",
              "    <tr>\n",
              "      <th>2008-02-05</th>\n",
              "      <td>74.0</td>\n",
              "      <td>1004.8</td>\n",
              "      <td>8.0</td>\n",
              "      <td>Yes</td>\n",
              "    </tr>\n",
              "  </tbody>\n",
              "</table>\n",
              "</div>"
            ],
            "text/plain": [
              "            Humidity3pm  Pressure3pm  Cloud3pm RainTomorrow\n",
              "Date                                                       \n",
              "2008-02-01         84.0       1017.4       8.0          Yes\n",
              "2008-02-02         73.0       1016.4       7.0          Yes\n",
              "2008-02-03         86.0       1015.6       8.0          Yes\n",
              "2008-02-04         90.0       1011.8       8.0          Yes\n",
              "2008-02-05         74.0       1004.8       8.0          Yes"
            ]
          },
          "execution_count": 7,
          "metadata": {},
          "output_type": "execute_result"
        }
      ],
      "source": [
        "dataset.head()"
      ]
    },
    {
      "cell_type": "markdown",
      "id": "d5de442b",
      "metadata": {
        "id": "d5de442b"
      },
      "source": [
        "### Step 5: Deal with remaining missing data\n",
        "- A simple choice is to simply remove rows with missing data\n",
        "- Use [dropna()](https://pandas.pydata.org/docs/reference/api/pandas.DataFrame.dropna.html)"
      ]
    },
    {
      "cell_type": "code",
      "execution_count": null,
      "id": "1d1ce1ac",
      "metadata": {
        "id": "1d1ce1ac",
        "outputId": "892ff985-6c8d-461a-d265-940ad87f9245"
      },
      "outputs": [
        {
          "data": {
            "text/plain": [
              "(3337, 1690)"
            ]
          },
          "execution_count": 8,
          "metadata": {},
          "output_type": "execute_result"
        }
      ],
      "source": [
        "dataset_clean = data.dropna()\n",
        "len(dataset), len(dataset_clean)"
      ]
    },
    {
      "cell_type": "code",
      "execution_count": null,
      "id": "c28b1cbd",
      "metadata": {
        "id": "c28b1cbd"
      },
      "outputs": [],
      "source": []
    },
    {
      "cell_type": "markdown",
      "id": "34fd807b",
      "metadata": {
        "id": "34fd807b"
      },
      "source": [
        "### Step 6: Create training and test datasets\n",
        "- Define dataset **X** to be the data consisting of the three columns.\n",
        "- Define dataset **y** to be datset cosisting of **'RainTomorrow'**.\n",
        "    - HINT: Use list comprehension to transform **'No'** and **'Yes'** to 0 and 1, repectively (like in the Lesson)\n",
        "- Divide into **X_train, X_test, y_train, y_test** with **train_test_split**\n",
        "    - HINT: See how it is done in Lesson\n",
        "    - You can use **random_state=42** (or any other number) if you want to reproduce results."
      ]
    },
    {
      "cell_type": "code",
      "execution_count": null,
      "id": "6f4c8a4a",
      "metadata": {
        "id": "6f4c8a4a"
      },
      "outputs": [],
      "source": [
        "X = dataset_clean[header[:3]]\n",
        "y = dataset_clean[header[3]]\n",
        "y = np.array([0 if value == 'No' else 1 for value in y])"
      ]
    },
    {
      "cell_type": "code",
      "execution_count": null,
      "id": "8c1b6601",
      "metadata": {
        "id": "8c1b6601"
      },
      "outputs": [],
      "source": [
        "X_train, X_test, y_train, y_test = train_test_split(X, y, random_state=42)"
      ]
    },
    {
      "cell_type": "markdown",
      "id": "17012c4b",
      "metadata": {
        "id": "17012c4b"
      },
      "source": [
        "### Step 7: Train and test the model\n",
        "- Create classifier with **KNeighborsClassifier**\n",
        "    - You can play around with n_neighbors (default =5)\n",
        "- Fit the model with training data **(X_train, y_train**)\n",
        "- Predict data from **X_test** (use predict) and assign to **y_pred**.\n",
        "- Evalute score by using **metrics.accuracy_score(y_test, y_pred)**."
      ]
    },
    {
      "cell_type": "code",
      "execution_count": null,
      "id": "5cee6d9d",
      "metadata": {
        "id": "5cee6d9d",
        "outputId": "49a7aa5b-adab-4b25-fda0-e11ff99ea596"
      },
      "outputs": [
        {
          "data": {
            "text/plain": [
              "0.8108747044917257"
            ]
          },
          "execution_count": 11,
          "metadata": {},
          "output_type": "execute_result"
        }
      ],
      "source": [
        "neigh = KNeighborsClassifier()\n",
        "neigh.fit(X_train, y_train)\n",
        "y_pred = neigh.predict(X_test)\n",
        "metrics.accuracy_score(y_test, y_pred)"
      ]
    },
    {
      "cell_type": "code",
      "execution_count": null,
      "id": "a769f2f1",
      "metadata": {
        "id": "a769f2f1"
      },
      "outputs": [],
      "source": []
    },
    {
      "cell_type": "markdown",
      "id": "7b067085",
      "metadata": {
        "id": "7b067085"
      },
      "source": [
        "### Step 8 (Optional): Try with different columns\n",
        "- You can redo with diffrent choise of columns (starting from step 4)"
      ]
    },
    {
      "cell_type": "code",
      "execution_count": null,
      "id": "d9142f80",
      "metadata": {
        "id": "d9142f80",
        "outputId": "c30cd715-4d53-4716-ba97-f49279896366"
      },
      "outputs": [
        {
          "data": {
            "text/plain": [
              "MinTemp          float64\n",
              "MaxTemp          float64\n",
              "Rainfall         float64\n",
              "Evaporation      float64\n",
              "Sunshine         float64\n",
              "WindGustDir       object\n",
              "WindGustSpeed    float64\n",
              "WindDir9am        object\n",
              "WindDir3pm        object\n",
              "WindSpeed9am     float64\n",
              "WindSpeed3pm     float64\n",
              "Humidity9am      float64\n",
              "Humidity3pm      float64\n",
              "Pressure9am      float64\n",
              "Pressure3pm      float64\n",
              "Cloud9am         float64\n",
              "Cloud3pm         float64\n",
              "Temp9am          float64\n",
              "Temp3pm          float64\n",
              "RainToday         object\n",
              "RISK_MM          float64\n",
              "RainTomorrow      object\n",
              "dtype: object"
            ]
          },
          "execution_count": 12,
          "metadata": {},
          "output_type": "execute_result"
        }
      ],
      "source": [
        "data.dtypes"
      ]
    },
    {
      "cell_type": "code",
      "execution_count": null,
      "id": "48ca1350",
      "metadata": {
        "id": "48ca1350"
      },
      "outputs": [],
      "source": [
        "header = ['WindSpeed9am', 'Pressure9am', 'Cloud9am', 'RainTomorrow']\n",
        "dataset = data[header]"
      ]
    },
    {
      "cell_type": "code",
      "execution_count": null,
      "id": "0a06bf72",
      "metadata": {
        "id": "0a06bf72",
        "outputId": "d57ea517-9dbc-46b2-e493-12c1b82051ff"
      },
      "outputs": [
        {
          "data": {
            "text/html": [
              "<div>\n",
              "<style scoped>\n",
              "    .dataframe tbody tr th:only-of-type {\n",
              "        vertical-align: middle;\n",
              "    }\n",
              "\n",
              "    .dataframe tbody tr th {\n",
              "        vertical-align: top;\n",
              "    }\n",
              "\n",
              "    .dataframe thead th {\n",
              "        text-align: right;\n",
              "    }\n",
              "</style>\n",
              "<table border=\"1\" class=\"dataframe\">\n",
              "  <thead>\n",
              "    <tr style=\"text-align: right;\">\n",
              "      <th></th>\n",
              "      <th>WindSpeed9am</th>\n",
              "      <th>Pressure9am</th>\n",
              "      <th>Cloud9am</th>\n",
              "      <th>RainTomorrow</th>\n",
              "    </tr>\n",
              "    <tr>\n",
              "      <th>Date</th>\n",
              "      <th></th>\n",
              "      <th></th>\n",
              "      <th></th>\n",
              "      <th></th>\n",
              "    </tr>\n",
              "  </thead>\n",
              "  <tbody>\n",
              "    <tr>\n",
              "      <th>2008-02-01</th>\n",
              "      <td>17.0</td>\n",
              "      <td>1017.6</td>\n",
              "      <td>8.0</td>\n",
              "      <td>Yes</td>\n",
              "    </tr>\n",
              "    <tr>\n",
              "      <th>2008-02-02</th>\n",
              "      <td>9.0</td>\n",
              "      <td>1017.9</td>\n",
              "      <td>7.0</td>\n",
              "      <td>Yes</td>\n",
              "    </tr>\n",
              "    <tr>\n",
              "      <th>2008-02-03</th>\n",
              "      <td>17.0</td>\n",
              "      <td>1016.7</td>\n",
              "      <td>7.0</td>\n",
              "      <td>Yes</td>\n",
              "    </tr>\n",
              "    <tr>\n",
              "      <th>2008-02-04</th>\n",
              "      <td>22.0</td>\n",
              "      <td>1014.2</td>\n",
              "      <td>8.0</td>\n",
              "      <td>Yes</td>\n",
              "    </tr>\n",
              "    <tr>\n",
              "      <th>2008-02-05</th>\n",
              "      <td>11.0</td>\n",
              "      <td>1008.3</td>\n",
              "      <td>8.0</td>\n",
              "      <td>Yes</td>\n",
              "    </tr>\n",
              "  </tbody>\n",
              "</table>\n",
              "</div>"
            ],
            "text/plain": [
              "            WindSpeed9am  Pressure9am  Cloud9am RainTomorrow\n",
              "Date                                                        \n",
              "2008-02-01          17.0       1017.6       8.0          Yes\n",
              "2008-02-02           9.0       1017.9       7.0          Yes\n",
              "2008-02-03          17.0       1016.7       7.0          Yes\n",
              "2008-02-04          22.0       1014.2       8.0          Yes\n",
              "2008-02-05          11.0       1008.3       8.0          Yes"
            ]
          },
          "execution_count": 14,
          "metadata": {},
          "output_type": "execute_result"
        }
      ],
      "source": [
        "dataset.head()"
      ]
    },
    {
      "cell_type": "code",
      "execution_count": null,
      "id": "1f9270eb",
      "metadata": {
        "id": "1f9270eb",
        "outputId": "30bd6182-f02e-4fc1-faa3-f4eafe0a8ab9"
      },
      "outputs": [
        {
          "data": {
            "text/plain": [
              "(3337, 1690)"
            ]
          },
          "execution_count": 15,
          "metadata": {},
          "output_type": "execute_result"
        }
      ],
      "source": [
        "dataset_clean = data.dropna()\n",
        "len(dataset), len(dataset_clean)"
      ]
    },
    {
      "cell_type": "code",
      "execution_count": null,
      "id": "4a2639aa",
      "metadata": {
        "id": "4a2639aa"
      },
      "outputs": [],
      "source": [
        "X = dataset_clean[header[:3]]\n",
        "y = dataset_clean[header[3]]\n",
        "y = np.array([0 if value == 'No' else 1 for value in y])"
      ]
    },
    {
      "cell_type": "code",
      "execution_count": null,
      "id": "c9d4368b",
      "metadata": {
        "id": "c9d4368b"
      },
      "outputs": [],
      "source": [
        "X_train, X_test, y_train, y_test = train_test_split(X, y, random_state=42)"
      ]
    },
    {
      "cell_type": "code",
      "execution_count": null,
      "id": "0c474d72",
      "metadata": {
        "id": "0c474d72",
        "outputId": "98df9ff6-6bcf-47d7-abf3-08fb2fea43fd"
      },
      "outputs": [
        {
          "data": {
            "text/plain": [
              "0.7163120567375887"
            ]
          },
          "execution_count": 18,
          "metadata": {},
          "output_type": "execute_result"
        }
      ],
      "source": [
        "neigh = KNeighborsClassifier()\n",
        "neigh.fit(X_train, y_train)\n",
        "y_pred = neigh.predict(X_test)\n",
        "metrics.accuracy_score(y_test, y_pred)"
      ]
    }
  ],
  "metadata": {
    "language_info": {
      "name": "python"
    },
    "colab": {
      "provenance": [],
      "include_colab_link": true
    },
    "kernelspec": {
      "name": "python3",
      "display_name": "Python 3"
    },
    "gpuClass": "standard"
  },
  "nbformat": 4,
  "nbformat_minor": 5
}
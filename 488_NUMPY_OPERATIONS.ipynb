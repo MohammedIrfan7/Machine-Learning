{
  "cells": [
    {
      "cell_type": "markdown",
      "metadata": {
        "id": "0q8k91u_SM6L"
      },
      "source": [
        "\n",
        "\n",
        "---\n",
        "\n",
        "\n",
        "**RA2011003010488**\n",
        "\n",
        "**Mohammed Irfan M A**\n",
        "\n",
        "**Numpy Operations**\n",
        "\n",
        "---\n",
        "\n"
      ]
    },
    {
      "cell_type": "code",
      "execution_count": null,
      "metadata": {
        "colab": {
          "base_uri": "https://localhost:8080/"
        },
        "id": "k2LB0ba9JwEQ",
        "outputId": "d46216a3-fc81-45c7-a476-339800e7a143"
      },
      "outputs": [
        {
          "name": "stdout",
          "output_type": "stream",
          "text": [
            "[ 3  6  9 12]\n"
          ]
        }
      ],
      "source": [
        "import numpy as np\n",
        "a1 = [1,2,3,4]\n",
        "a2 = [2,4,6,8]\n",
        "a3=np.add(a1,a2)\n",
        "print(np.array(a3))"
      ]
    },
    {
      "cell_type": "code",
      "execution_count": null,
      "metadata": {
        "colab": {
          "base_uri": "https://localhost:8080/"
        },
        "id": "eEjnIEjsMPJD",
        "outputId": "fda99e35-1738-4f36-9d2d-9caa877da141"
      },
      "outputs": [
        {
          "name": "stdout",
          "output_type": "stream",
          "text": [
            "[1 2 3 4]\n"
          ]
        }
      ],
      "source": [
        "a4=np.subtract(a3,a2)\n",
        "print(a4)"
      ]
    },
    {
      "cell_type": "code",
      "execution_count": null,
      "metadata": {
        "colab": {
          "base_uri": "https://localhost:8080/"
        },
        "id": "zSLN6BPqMcai",
        "outputId": "5ce8a508-4ad6-48a7-8b2d-0f169e9bbb51"
      },
      "outputs": [
        {
          "name": "stdout",
          "output_type": "stream",
          "text": [
            "[ 2  8 18 32]\n"
          ]
        }
      ],
      "source": [
        "a5=np.multiply(a1,a2)\n",
        "print(a5)"
      ]
    },
    {
      "cell_type": "code",
      "execution_count": null,
      "metadata": {
        "colab": {
          "base_uri": "https://localhost:8080/"
        },
        "id": "2hg0UNOcM0n2",
        "outputId": "43be9d6d-39e3-428a-b291-f0052d69be0a"
      },
      "outputs": [
        {
          "name": "stdout",
          "output_type": "stream",
          "text": [
            "[2. 2. 2. 2.]\n"
          ]
        }
      ],
      "source": [
        "a6 = np.divide(a2,a1)\n",
        "print(a6)"
      ]
    },
    {
      "cell_type": "code",
      "execution_count": null,
      "metadata": {
        "colab": {
          "base_uri": "https://localhost:8080/"
        },
        "id": "KPmyUMInNCjd",
        "outputId": "90b0c1c2-e3e9-4a35-c003-38dbaa7e1e15"
      },
      "outputs": [
        {
          "name": "stdout",
          "output_type": "stream",
          "text": [
            "[ 2.71828183  7.3890561  20.08553692 54.59815003]\n"
          ]
        }
      ],
      "source": [
        "a7 = np.exp(a1)\n",
        "print(a7)"
      ]
    },
    {
      "cell_type": "code",
      "execution_count": null,
      "metadata": {
        "colab": {
          "base_uri": "https://localhost:8080/"
        },
        "id": "wBN5BLxGNMgp",
        "outputId": "2354ed5c-3411-41ab-e5c2-d5f41ae0fd84"
      },
      "outputs": [
        {
          "name": "stdout",
          "output_type": "stream",
          "text": [
            "[1.41421356 2.         2.44948974 2.82842712]\n"
          ]
        }
      ],
      "source": [
        "a8 = np.sqrt(a2)\n",
        "print(a8)"
      ]
    },
    {
      "cell_type": "code",
      "execution_count": null,
      "metadata": {
        "colab": {
          "base_uri": "https://localhost:8080/"
        },
        "id": "b6YI2Y4fNjkR",
        "outputId": "e5437aa0-0eac-4dd8-d132-ab44e7f748f0"
      },
      "outputs": [
        {
          "data": {
            "text/plain": [
              "False"
            ]
          },
          "execution_count": 13,
          "metadata": {},
          "output_type": "execute_result"
        }
      ],
      "source": [
        "np.array_equal(a1,a2)"
      ]
    },
    {
      "cell_type": "code",
      "execution_count": null,
      "metadata": {
        "colab": {
          "base_uri": "https://localhost:8080/"
        },
        "id": "LrYOMOTxOosR",
        "outputId": "30a57c4f-dd4a-41c5-9d68-4a19327b11cd"
      },
      "outputs": [
        {
          "data": {
            "text/plain": [
              "array([1, 2, 3, 4])"
            ]
          },
          "execution_count": 14,
          "metadata": {},
          "output_type": "execute_result"
        }
      ],
      "source": [
        "np.copy(a1)"
      ]
    },
    {
      "cell_type": "code",
      "execution_count": null,
      "metadata": {
        "colab": {
          "base_uri": "https://localhost:8080/"
        },
        "id": "BVsCMT1pO_B_",
        "outputId": "acb2338c-0e2d-4540-d2d4-9506d1ba9258"
      },
      "outputs": [
        {
          "data": {
            "text/plain": [
              "array([ 3,  6,  9, 12])"
            ]
          },
          "execution_count": 18,
          "metadata": {},
          "output_type": "execute_result"
        }
      ],
      "source": [
        " np.sort(a3)"
      ]
    },
    {
      "cell_type": "code",
      "execution_count": null,
      "metadata": {
        "colab": {
          "base_uri": "https://localhost:8080/"
        },
        "id": "It348020PeOS",
        "outputId": "c6a7a40d-adf0-4a45-ed2c-e8b445eb7f98"
      },
      "outputs": [
        {
          "name": "stdout",
          "output_type": "stream",
          "text": [
            "[[ 1  2  3]\n",
            " [ 4  5  6]\n",
            " [ 7  8  9]\n",
            " [10 11 12]]\n"
          ]
        }
      ],
      "source": [
        "a10 = np.array([1, 2, 3, 4, 5, 6, 7, 8, 9, 10, 11, 12])\n",
        "\n",
        "newarr = a10.reshape(4, 3)\n",
        "\n",
        "print(newarr)"
      ]
    },
    {
      "cell_type": "code",
      "execution_count": null,
      "metadata": {
        "colab": {
          "base_uri": "https://localhost:8080/"
        },
        "id": "77RW6LEOQWAj",
        "outputId": "0c458db5-5136-4c42-e1ac-a78ef53ba258"
      },
      "outputs": [
        {
          "data": {
            "text/plain": [
              "array([ 1,  2,  3,  4, 10])"
            ]
          },
          "execution_count": 21,
          "metadata": {},
          "output_type": "execute_result"
        }
      ],
      "source": [
        "np.append(a1,10)"
      ]
    },
    {
      "cell_type": "code",
      "execution_count": null,
      "metadata": {
        "colab": {
          "base_uri": "https://localhost:8080/"
        },
        "id": "IyzIoHAHQm4D",
        "outputId": "7cb56d93-08bd-4b67-980f-bed6ef457e59"
      },
      "outputs": [
        {
          "data": {
            "text/plain": [
              "array([1, 2, 4])"
            ]
          },
          "execution_count": 22,
          "metadata": {},
          "output_type": "execute_result"
        }
      ],
      "source": [
        "np.delete(a1,2,axis=0) "
      ]
    },
    {
      "cell_type": "code",
      "execution_count": null,
      "metadata": {
        "colab": {
          "base_uri": "https://localhost:8080/"
        },
        "id": "e5hr6LF7Qugo",
        "outputId": "8ddb494c-f319-4cd6-d717-c98a075e55fc"
      },
      "outputs": [
        {
          "data": {
            "text/plain": [
              "array([1, 2, 3, 4, 2, 4, 6, 8])"
            ]
          },
          "execution_count": 24,
          "metadata": {},
          "output_type": "execute_result"
        }
      ],
      "source": [
        "np.concatenate((a1,a2))"
      ]
    },
    {
      "cell_type": "code",
      "execution_count": null,
      "metadata": {
        "colab": {
          "base_uri": "https://localhost:8080/"
        },
        "id": "vtB61TWwRHQJ",
        "outputId": "e998117e-6223-4629-85b0-48dd12c95e9c"
      },
      "outputs": [
        {
          "name": "stdout",
          "output_type": "stream",
          "text": [
            "[array([1, 2]), array([3, 4]), array([5, 6])]\n"
          ]
        }
      ],
      "source": [
        "a11 = np.array([1, 2, 3, 4, 5, 6])\n",
        "\n",
        "newarr1 = np.array_split(a11, 3)\n",
        "\n",
        "print(newarr1)"
      ]
    },
    {
      "cell_type": "code",
      "execution_count": null,
      "metadata": {
        "colab": {
          "base_uri": "https://localhost:8080/"
        },
        "id": "CoWSvevjR-EA",
        "outputId": "df11ce23-e605-4060-b50a-b890f886f641"
      },
      "outputs": [
        {
          "name": "stdout",
          "output_type": "stream",
          "text": [
            "[2 3 4 5]\n"
          ]
        }
      ],
      "source": [
        "a12 = np.array([1, 2, 3, 4, 5, 6, 7])\n",
        "\n",
        "print(a12[1:5])"
      ]
    }
  ],
  "metadata": {
    "colab": {
      "provenance": []
    },
    "kernelspec": {
      "display_name": "Python 3",
      "name": "python3"
    },
    "language_info": {
      "name": "python"
    }
  },
  "nbformat": 4,
  "nbformat_minor": 0
}
